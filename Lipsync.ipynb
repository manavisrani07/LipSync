{
  "nbformat": 4,
  "nbformat_minor": 0,
  "metadata": {
    "colab": {
      "provenance": [],
      "gpuType": "T4",
      "include_colab_link": true
    },
    "kernelspec": {
      "name": "python3",
      "display_name": "Python 3"
    },
    "language_info": {
      "name": "python"
    },
    "accelerator": "GPU"
  },
  "cells": [
    {
      "cell_type": "markdown",
      "metadata": {
        "id": "view-in-github",
        "colab_type": "text"
      },
      "source": [
        "<a href=\"https://colab.research.google.com/github/manavtech07/LipSync/blob/main/Lipsync.ipynb\" target=\"_parent\"><img src=\"https://colab.research.google.com/assets/colab-badge.svg\" alt=\"Open In Colab\"/></a>"
      ]
    },
    {
      "cell_type": "markdown",
      "metadata": {
        "id": "fkoF-mm8CGfB"
      },
      "source": [
        "# LIP-SYNCING USING Wav2Lip\n",
        "\n",
        "Github: https://github.com/Rudrabha/Wav2Lip\n",
        "\n",
        "Github: https://github.com/Markfryazino/wav2lip-hq"
      ]
    },
    {
      "cell_type": "markdown",
      "metadata": {
        "id": "5uJWURePONLd"
      },
      "source": [
        "## First of all, clone the repository and load all required models."
      ]
    },
    {
      "cell_type": "code",
      "metadata": {
        "id": "Lb6Q78lTNeSj"
      },
      "source": [
        "!git clone https://github.com/GucciFlipFlops1917/wav2lip-hq-updated-ESRGAN\n",
        "# !git clone https://github.com/Markfryazino/wav2lip-hq\n",
        "%cd wav2lip-hq-updated-ESRGAN/\n",
        "!pip3 install gdown\n",
        "!pip3 install -r requirements.txt"
      ],
      "execution_count": null,
      "outputs": []
    },
    {
      "cell_type": "code",
      "source": [
        "!wget \"https://www.adrianbulat.com/downloads/python-fan/s3fd-619a316812.pth\" -O \"face_detection/detection/sfd/s3fd.pth\""
      ],
      "metadata": {
        "id": "Jo3vWw7JBlBX"
      },
      "execution_count": null,
      "outputs": []
    },
    {
      "cell_type": "markdown",
      "source": [
        "##Now upload wav2lip, ersgan and and other paths"
      ],
      "metadata": {
        "id": "eWdPyvE99TJU"
      }
    },
    {
      "cell_type": "code",
      "metadata": {
        "id": "H7J5GnO7PjYo"
      },
      "source": [
        "import gdown\n",
        "\n",
        "urls = {\n",
        "    \"wav2lip_gan.pth\": \"10Iu05Modfti3pDbxCFPnofmfVlbkvrCm\",\n",
        "    \"face_segmentation.pth\": \"154JgKpzCPW82qINcVieuPH3fZ2e0P812\",\n",
        "    \"esrgan_max.pth\": \"1e5LT83YckB5wFKXWV4cWOPkVRnCDmvwQ\",\n",
        "    \"pretrained_state.pth\": \"1_MGeOLdARWHylC1PCU2p5_FQztD4Bo7B\"\n",
        "}\n",
        "\n",
        "for name, id in urls.items():\n",
        "    url = f\"https://drive.google.com/uc?id={id}\"\n",
        "    output = f\"checkpoints/{name}\"\n",
        "    gdown.download(url, output, quiet=False)\n",
        "    print(f\"Loaded {name}\")"
      ],
      "execution_count": null,
      "outputs": []
    },
    {
      "cell_type": "markdown",
      "metadata": {
        "id": "jUyqAPGwRcGj"
      },
      "source": [
        "## Now upload target audio and video.\n",
        "\n",
        "Uploading it from drive, it's quick"
      ]
    },
    {
      "cell_type": "code",
      "metadata": {
        "id": "YkSRYUV-RTF9"
      },
      "source": [
        "# If you load files from Drive, run this cell\n",
        "\n",
        "# Paste your filenames and Google Drive IDs below.\n",
        "urls = {\n",
        "    \"test_vid.mp4\": \"1-2SvaI0aQGuZG69uz3CQ_xJcnhQg2fIg\",\n",
        "    \"input_audio.wav\": \"1W4-nfO6M4mGsR5kLBs8Jmc88Voz4QHld\",\n",
        "}\n",
        "\n",
        "for name, id in urls.items():\n",
        "    url = f\"https://drive.google.com/uc?id={id}\"\n",
        "    output = f\"videos/{name}\"\n",
        "    gdown.download(url, output, quiet=False)\n",
        "    print(f\"Loaded {name}\")"
      ],
      "execution_count": null,
      "outputs": []
    },
    {
      "cell_type": "markdown",
      "source": [
        "##Optional"
      ],
      "metadata": {
        "id": "XbnJuC8_BJt3"
      }
    },
    {
      "cell_type": "code",
      "source": [
        "urls = {\n",
        "    \"4x_BigFace_v3_Blend.pth\": \"1ptCMB1ffepKhHyMLuSkn09Lcor2Rxmhw\",\n",
        "    \"4x_BigFace_v3_Clear.pth\": \"1alSiavaCLehF_E1fEh7K3H1gLkJboLwL\",\n",
        "    \"4x_BigFace_v3.pth\": \"17Fw30311ZLwxbjb-Ofp7EEMcWYT2gVNN\",\n",
        "    \"4x_BigFace.pth\": \"1cloUfyTVPdVJKlp_BYOjE4R6vMfjk43f\"\n",
        "}\n",
        "for name, id in urls.items():\n",
        "    url = f\"https://drive.google.com/uc?id={id}\"\n",
        "    output = f\"checkpoints/{name}\"\n",
        "    gdown.download(url, output, quiet=False)\n",
        "    print(f\"Loaded {name}\")"
      ],
      "metadata": {
        "id": "NMGk3C6GSFiJ"
      },
      "execution_count": null,
      "outputs": []
    },
    {
      "cell_type": "markdown",
      "metadata": {
        "id": "U9WRj2KBVojD"
      },
      "source": [
        "## Finally, run the model!\n",
        "after running download the results from 'results/output.mp4'"
      ]
    },
    {
      "cell_type": "code",
      "source": [
        "!pip3 install gfpgan\n",
        "!pip3 install realesrgan"
      ],
      "metadata": {
        "id": "8exZu0k0TZe6"
      },
      "execution_count": null,
      "outputs": []
    },
    {
      "cell_type": "code",
      "metadata": {
        "id": "upzbvGOmVnJT"
      },
      "source": [
        "!python inference.py \\\n",
        "        --checkpoint_path \"checkpoints/wav2lip_gan.pth\" \\\n",
        "        --segmentation_path \"checkpoints/face_segmentation.pth\" \\\n",
        "        --enhance_face codeformer \\\n",
        "        --face \"/content/wav2lip-hq-updated-ESRGAN/videos/test_vid.mp4\" \\\n",
        "        --audio \"/content/wav2lip-hq-updated-ESRGAN/videos/input_audio.wav\" \\\n",
        "        --outfile \"results/output.mp4\""
      ],
      "execution_count": null,
      "outputs": []
    }
  ]
}