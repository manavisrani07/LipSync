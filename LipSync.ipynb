{
  "nbformat": 4,
  "nbformat_minor": 0,
  "metadata": {
    "colab": {
      "provenance": [],
      "gpuType": "T4",
      "include_colab_link": true
    },
    "kernelspec": {
      "name": "python3",
      "display_name": "Python 3"
    },
    "language_info": {
      "name": "python"
    },
    "accelerator": "GPU"
  },
  "cells": [
    {
      "cell_type": "markdown",
      "metadata": {
        "id": "view-in-github",
        "colab_type": "text"
      },
      "source": [
        "<a href=\"https://colab.research.google.com/github/manavtech07/LipSync/blob/main/LipSync.ipynb\" target=\"_parent\"><img src=\"https://colab.research.google.com/assets/colab-badge.svg\" alt=\"Open In Colab\"/></a>"
      ]
    },
    {
      "cell_type": "markdown",
      "metadata": {
        "id": "fkoF-mm8CGfB"
      },
      "source": [
        "# LIP-SYNCING USING Wav2Lip\n",
        "\n",
        "Github: https://github.com/Rudrabha/Wav2Lip\n",
        "\n",
        "Github: https://github.com/Markfryazino/wav2lip-hq"
      ]
    },
    {
      "cell_type": "markdown",
      "metadata": {
        "id": "5uJWURePONLd"
      },
      "source": [
        "## First of all, clone the repository and load all required models."
      ]
    },
    {
      "cell_type": "code",
      "metadata": {
        "id": "Lb6Q78lTNeSj"
      },
      "source": [
        "!git clone https://github.com/GucciFlipFlops1917/wav2lip-hq-updated-ESRGAN\n",
        "# !git clone https://github.com/Markfryazino/wav2lip-hq\n",
        "%cd wav2lip-hq-updated-ESRGAN/\n",
        "!pip3 install gdown\n",
        "!pip3 install -r requirements.txt"
      ],
      "execution_count": null,
      "outputs": []
    },
    {
      "cell_type": "code",
      "source": [
        "!wget \"https://www.adrianbulat.com/downloads/python-fan/s3fd-619a316812.pth\" -O \"face_detection/detection/sfd/s3fd.pth\""
      ],
      "metadata": {
        "id": "Jo3vWw7JBlBX"
      },
      "execution_count": null,
      "outputs": []
    },
    {
      "cell_type": "markdown",
      "source": [
        "##Now upload wav2lip, ersgan and and other paths"
      ],
      "metadata": {
        "id": "eWdPyvE99TJU"
      }
    },
    {
      "cell_type": "code",
      "metadata": {
        "id": "H7J5GnO7PjYo"
      },
      "source": [
        "import gdown\n",
        "\n",
        "urls = {\n",
        "    \"wav2lip_gan.pth\": \"10Iu05Modfti3pDbxCFPnofmfVlbkvrCm\",\n",
        "    \"face_segmentation.pth\": \"154JgKpzCPW82qINcVieuPH3fZ2e0P812\",\n",
        "    \"esrgan_max.pth\": \"1e5LT83YckB5wFKXWV4cWOPkVRnCDmvwQ\",\n",
        "    \"pretrained_state.pth\": \"1_MGeOLdARWHylC1PCU2p5_FQztD4Bo7B\"\n",
        "}\n",
        "\n",
        "for name, id in urls.items():\n",
        "    url = f\"https://drive.google.com/uc?id={id}\"\n",
        "    output = f\"checkpoints/{name}\"\n",
        "    gdown.download(url, output, quiet=False)\n",
        "    print(f\"Loaded {name}\")"
      ],
      "execution_count": null,
      "outputs": []
    },
    {
      "cell_type": "markdown",
      "metadata": {
        "id": "jUyqAPGwRcGj"
      },
      "source": [
        "## Now upload target audio and video.\n",
        "\n",
        "Uploading it from drive, it's quick"
      ]
    },
    {
      "cell_type": "code",
      "metadata": {
        "id": "YkSRYUV-RTF9"
      },
      "source": [
        "# If you load files from Drive, run this cell\n",
        "\n",
        "# Paste your filenames and Google Drive IDs below.\n",
        "urls = {\n",
        "    \"test_vid.mp4\": \"1-2SvaI0aQGuZG69uz3CQ_xJcnhQg2fIg\",\n",
        "    \"input_audio.wav\": \"1W4-nfO6M4mGsR5kLBs8Jmc88Voz4QHld\",\n",
        "}\n",
        "\n",
        "for name, id in urls.items():\n",
        "    url = f\"https://drive.google.com/uc?id={id}\"\n",
        "    output = f\"videos/{name}\"\n",
        "    gdown.download(url, output, quiet=False)\n",
        "    print(f\"Loaded {name}\")"
      ],
      "execution_count": null,
      "outputs": []
    },
    {
      "cell_type": "markdown",
      "source": [
        "##Optional"
      ],
      "metadata": {
        "id": "XbnJuC8_BJt3"
      }
    },
    {
      "cell_type": "code",
      "source": [
        "urls = {\n",
        "    \"4x_BigFace_v3_Blend.pth\": \"1ptCMB1ffepKhHyMLuSkn09Lcor2Rxmhw\",\n",
        "    \"4x_BigFace_v3_Clear.pth\": \"1alSiavaCLehF_E1fEh7K3H1gLkJboLwL\",\n",
        "    \"4x_BigFace_v3.pth\": \"17Fw30311ZLwxbjb-Ofp7EEMcWYT2gVNN\",\n",
        "    \"4x_BigFace.pth\": \"1cloUfyTVPdVJKlp_BYOjE4R6vMfjk43f\"\n",
        "}\n",
        "for name, id in urls.items():\n",
        "    url = f\"https://drive.google.com/uc?id={id}\"\n",
        "    output = f\"checkpoints/{name}\"\n",
        "    gdown.download(url, output, quiet=False)\n",
        "    print(f\"Loaded {name}\")"
      ],
      "metadata": {
        "id": "NMGk3C6GSFiJ"
      },
      "execution_count": null,
      "outputs": []
    },
    {
      "cell_type": "markdown",
      "metadata": {
        "id": "U9WRj2KBVojD"
      },
      "source": [
        "## Finally, run the model!\n",
        "after running download the results from 'results/output.mp4'"
      ]
    },
    {
      "cell_type": "code",
      "source": [
        "!pip3 install gfpgan\n",
        "!pip3 install realesrgan"
      ],
      "metadata": {
        "id": "8exZu0k0TZe6"
      },
      "execution_count": null,
      "outputs": []
    },
    {
      "cell_type": "code",
      "metadata": {
        "id": "upzbvGOmVnJT",
        "colab": {
          "base_uri": "https://localhost:8080/"
        },
        "outputId": "eb99e13b-c724-400c-c68c-79761ccc551d"
      },
      "source": [
        "!python inference.py \\\n",
        "        --checkpoint_path \"checkpoints/wav2lip_gan.pth\" \\\n",
        "        --segmentation_path \"checkpoints/face_segmentation.pth\" \\\n",
        "        --enhance_face gfpgan \\\n",
        "        --face \"/content/wav2lip-hq-updated-ESRGAN/videos/test_vid.mp4\" \\\n",
        "        --audio \"/content/wav2lip-hq-updated-ESRGAN/videos/input_audio.wav\" \\\n",
        "        --outfile \"results/output.mp4\""
      ],
      "execution_count": 15,
      "outputs": [
        {
          "output_type": "stream",
          "name": "stdout",
          "text": [
            "/usr/local/lib/python3.10/dist-packages/torchvision/transforms/functional_tensor.py:5: UserWarning: The torchvision.transforms.functional_tensor module is deprecated in 0.15 and will be **removed in 0.17**. Please don't rely on it. You probably just need to use APIs in torchvision.transforms.functional or in torchvision.transforms.v2.functional.\n",
            "  warnings.warn(\n",
            "Using cuda for inference.\n",
            "(80, 5386)\n",
            "Length of mel chunks: 3358\n",
            "  0% 0/27 [00:00<?, ?it/s]Reading video frames from start...\n",
            "Loading segmentation network...\n",
            "Loading super resolution model...\n",
            "/usr/local/lib/python3.10/dist-packages/torchvision/models/_utils.py:208: UserWarning: The parameter 'pretrained' is deprecated since 0.13 and may be removed in the future, please use 'weights' instead.\n",
            "  warnings.warn(\n",
            "/usr/local/lib/python3.10/dist-packages/torchvision/models/_utils.py:223: UserWarning: Arguments other than a weight enum or `None` for 'weights' are deprecated since 0.13 and may be removed in the future. The current behavior is equivalent to passing `weights=None`.\n",
            "  warnings.warn(msg)\n",
            "Load checkpoint from: checkpoints/wav2lip_gan.pth\n",
            "Model loaded\n",
            "Reading video frames from start...\n",
            " 89% 24/27 [50:09<06:16, 125.39s/it]\n",
            "ffmpeg version 4.2.7-0ubuntu0.1 Copyright (c) 2000-2022 the FFmpeg developers\n",
            "  built with gcc 9 (Ubuntu 9.4.0-1ubuntu1~20.04.1)\n",
            "  configuration: --prefix=/usr --extra-version=0ubuntu0.1 --toolchain=hardened --libdir=/usr/lib/x86_64-linux-gnu --incdir=/usr/include/x86_64-linux-gnu --arch=amd64 --enable-gpl --disable-stripping --enable-avresample --disable-filter=resample --enable-avisynth --enable-gnutls --enable-ladspa --enable-libaom --enable-libass --enable-libbluray --enable-libbs2b --enable-libcaca --enable-libcdio --enable-libcodec2 --enable-libflite --enable-libfontconfig --enable-libfreetype --enable-libfribidi --enable-libgme --enable-libgsm --enable-libjack --enable-libmp3lame --enable-libmysofa --enable-libopenjpeg --enable-libopenmpt --enable-libopus --enable-libpulse --enable-librsvg --enable-librubberband --enable-libshine --enable-libsnappy --enable-libsoxr --enable-libspeex --enable-libssh --enable-libtheora --enable-libtwolame --enable-libvidstab --enable-libvorbis --enable-libvpx --enable-libwavpack --enable-libwebp --enable-libx265 --enable-libxml2 --enable-libxvid --enable-libzmq --enable-libzvbi --enable-lv2 --enable-omx --enable-openal --enable-opencl --enable-opengl --enable-sdl2 --enable-libdc1394 --enable-libdrm --enable-libiec61883 --enable-nvenc --enable-chromaprint --enable-frei0r --enable-libx264 --enable-shared\n",
            "  libavutil      56. 31.100 / 56. 31.100\n",
            "  libavcodec     58. 54.100 / 58. 54.100\n",
            "  libavformat    58. 29.100 / 58. 29.100\n",
            "  libavdevice    58.  8.100 / 58.  8.100\n",
            "  libavfilter     7. 57.100 /  7. 57.100\n",
            "  libavresample   4.  0.  0 /  4.  0.  0\n",
            "  libswscale      5.  5.100 /  5.  5.100\n",
            "  libswresample   3.  5.100 /  3.  5.100\n",
            "  libpostproc    55.  5.100 / 55.  5.100\n",
            "\u001b[0;33mGuessed Channel Layout for Input Stream #0.0 : mono\n",
            "\u001b[0mInput #0, wav, from '/content/wav2lip-hq-updated-ESRGAN/videos/input_audio.wav':\n",
            "  Metadata:\n",
            "    encoder         : Lavf59.27.100\n",
            "  Duration: 00:01:07.32, bitrate: 705 kb/s\n",
            "    Stream #0:0: Audio: pcm_s16le ([1][0][0][0] / 0x0001), 44100 Hz, mono, s16, 705 kb/s\n",
            "Input #1, avi, from 'temp/result.avi':\n",
            "  Metadata:\n",
            "    encoder         : Lavf59.27.100\n",
            "  Duration: 00:00:59.44, start: 0.000000, bitrate: 7364 kb/s\n",
            "    Stream #1:0: Video: mpeg4 (Simple Profile) (DIVX / 0x58564944), yuv420p, 1920x960 [SAR 1:1 DAR 2:1], 7354 kb/s, 50 fps, 50 tbr, 50 tbn, 50 tbc\n",
            "Stream mapping:\n",
            "  Stream #1:0 -> #0:0 (mpeg4 (native) -> h264 (libx264))\n",
            "  Stream #0:0 -> #0:1 (pcm_s16le (native) -> aac (native))\n",
            "Press [q] to stop, [?] for help\n",
            "\u001b[1;36m[libx264 @ 0x55bbe1e6d740] \u001b[0m\u001b[0;33m-qscale is ignored, -crf is recommended.\n",
            "\u001b[0m\u001b[1;36m[libx264 @ 0x55bbe1e6d740] \u001b[0musing SAR=1/1\n",
            "\u001b[1;36m[libx264 @ 0x55bbe1e6d740] \u001b[0musing cpu capabilities: MMX2 SSE2Fast SSSE3 SSE4.2 AVX FMA3 BMI2 AVX2 AVX512\n",
            "\u001b[1;36m[libx264 @ 0x55bbe1e6d740] \u001b[0mprofile High, level 4.2\n",
            "\u001b[1;36m[libx264 @ 0x55bbe1e6d740] \u001b[0m264 - core 155 r2917 0a84d98 - H.264/MPEG-4 AVC codec - Copyleft 2003-2018 - http://www.videolan.org/x264.html - options: cabac=1 ref=3 deblock=1:0:0 analyse=0x3:0x113 me=hex subme=7 psy=1 psy_rd=1.00:0.00 mixed_ref=1 me_range=16 chroma_me=1 trellis=1 8x8dct=1 cqm=0 deadzone=21,11 fast_pskip=1 chroma_qp_offset=-2 threads=3 lookahead_threads=1 sliced_threads=0 nr=0 decimate=1 interlaced=0 bluray_compat=0 constrained_intra=0 bframes=3 b_pyramid=2 b_adapt=1 b_bias=0 direct=1 weightb=1 open_gop=0 weightp=2 keyint=250 keyint_min=25 scenecut=40 intra_refresh=0 rc_lookahead=40 rc=crf mbtree=1 crf=23.0 qcomp=0.60 qpmin=0 qpmax=69 qpstep=4 ip_ratio=1.40 aq=1:1.00\n",
            "Output #0, mp4, to 'results/output.mp4':\n",
            "  Metadata:\n",
            "    encoder         : Lavf58.29.100\n",
            "    Stream #0:0: Video: h264 (libx264) (avc1 / 0x31637661), yuv420p(progressive), 1920x960 [SAR 1:1 DAR 2:1], q=-1--1, 50 fps, 12800 tbn, 50 tbc\n",
            "    Metadata:\n",
            "      encoder         : Lavc58.54.100 libx264\n",
            "    Side data:\n",
            "      cpb: bitrate max/min/avg: 0/0/0 buffer size: 0 vbv_delay: -1\n",
            "    Stream #0:1: Audio: aac (LC) (mp4a / 0x6134706D), 44100 Hz, mono, fltp, 69 kb/s\n",
            "    Metadata:\n",
            "      encoder         : Lavc58.54.100 aac\n",
            "frame= 2972 fps= 15 q=-1.0 Lsize=   18380kB time=00:01:07.33 bitrate=2236.1kbits/s speed=0.35x    \n",
            "video:17737kB audio:571kB subtitle:0kB other streams:0kB global headers:0kB muxing overhead: 0.394833%\n",
            "\u001b[1;36m[libx264 @ 0x55bbe1e6d740] \u001b[0mframe I:16    Avg QP:17.65  size: 58052\n",
            "\u001b[1;36m[libx264 @ 0x55bbe1e6d740] \u001b[0mframe P:1547  Avg QP:22.29  size:  8638\n",
            "\u001b[1;36m[libx264 @ 0x55bbe1e6d740] \u001b[0mframe B:1409  Avg QP:24.40  size:  2747\n",
            "\u001b[1;36m[libx264 @ 0x55bbe1e6d740] \u001b[0mconsecutive B-frames: 28.3% 22.1% 10.5% 39.2%\n",
            "\u001b[1;36m[libx264 @ 0x55bbe1e6d740] \u001b[0mmb I  I16..4: 26.2% 69.2%  4.5%\n",
            "\u001b[1;36m[libx264 @ 0x55bbe1e6d740] \u001b[0mmb P  I16..4:  1.7%  6.5%  0.1%  P16..4: 22.5%  3.4%  1.3%  0.0%  0.0%    skip:64.5%\n",
            "\u001b[1;36m[libx264 @ 0x55bbe1e6d740] \u001b[0mmb B  I16..4:  0.3%  0.7%  0.0%  B16..8: 19.1%  0.9%  0.1%  direct: 0.6%  skip:78.4%  L0:46.8% L1:51.5% BI: 1.7%\n",
            "\u001b[1;36m[libx264 @ 0x55bbe1e6d740] \u001b[0m8x8 transform intra:77.5% inter:87.6%\n",
            "\u001b[1;36m[libx264 @ 0x55bbe1e6d740] \u001b[0mcoded y,uvDC,uvAC intra: 24.0% 33.2% 2.9% inter: 3.1% 3.5% 0.0%\n",
            "\u001b[1;36m[libx264 @ 0x55bbe1e6d740] \u001b[0mi16 v,h,dc,p: 40% 27% 17% 15%\n",
            "\u001b[1;36m[libx264 @ 0x55bbe1e6d740] \u001b[0mi8 v,h,dc,ddl,ddr,vr,hd,vl,hu: 25% 19% 48%  1%  1%  1%  1%  1%  1%\n",
            "\u001b[1;36m[libx264 @ 0x55bbe1e6d740] \u001b[0mi4 v,h,dc,ddl,ddr,vr,hd,vl,hu: 30% 23% 13%  4%  7%  7%  7%  5%  3%\n",
            "\u001b[1;36m[libx264 @ 0x55bbe1e6d740] \u001b[0mi8c dc,h,v,p: 57% 21% 20%  3%\n",
            "\u001b[1;36m[libx264 @ 0x55bbe1e6d740] \u001b[0mWeighted P-Frames: Y:0.2% UV:0.0%\n",
            "\u001b[1;36m[libx264 @ 0x55bbe1e6d740] \u001b[0mref P L0: 73.1%  8.9% 13.8%  4.3%  0.0%\n",
            "\u001b[1;36m[libx264 @ 0x55bbe1e6d740] \u001b[0mref B L0: 86.0% 11.4%  2.6%\n",
            "\u001b[1;36m[libx264 @ 0x55bbe1e6d740] \u001b[0mref B L1: 97.6%  2.4%\n",
            "\u001b[1;36m[libx264 @ 0x55bbe1e6d740] \u001b[0mkb/s:2444.44\n",
            "\u001b[1;36m[aac @ 0x55bbe1e65680] \u001b[0mQavg: 159.911\n"
          ]
        }
      ]
    }
  ]
}